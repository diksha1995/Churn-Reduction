{
 "cells": [
  {
   "cell_type": "code",
   "execution_count": 84,
   "metadata": {},
   "outputs": [],
   "source": [
    "#import libraries\n",
    "import os\n",
    "import pandas as pd\n",
    "import numpy as np\n",
    "import seaborn as sns\n",
    "import matplotlib.pyplot as plt\n",
    "%matplotlib inline\n",
    "from scipy.stats import chi2_contingency\n",
    "from sklearn import tree                            #Library For decision tree\n",
    "from sklearn.metrics import accuracy_score          #Library For decision tree\n",
    "from sklearn.tree import DecisionTreeClassifier     #Library For decision tree\n",
    "from sklearn.model_selection import train_test_split\n",
    "from sklearn.metrics import classification_report, confusion_matrix  \n",
    "from sklearn.ensemble import RandomForestClassifier #Library For random forest \n",
    "from sklearn.linear_model import LogisticRegression #Library For logistic regression\n",
    "from fancyimpute import KNN"
   ]
  },
  {
   "cell_type": "code",
   "execution_count": 85,
   "metadata": {},
   "outputs": [],
   "source": [
    "os.chdir(\"F:/Eddwisor/Task Program/Projects\")"
   ]
  },
  {
   "cell_type": "code",
   "execution_count": 86,
   "metadata": {},
   "outputs": [
    {
     "data": {
      "text/plain": [
       "'F:\\\\Eddwisor\\\\Task Program\\\\Projects'"
      ]
     },
     "execution_count": 86,
     "metadata": {},
     "output_type": "execute_result"
    }
   ],
   "source": [
    "os.getcwd()"
   ]
  },
  {
   "cell_type": "code",
   "execution_count": 87,
   "metadata": {},
   "outputs": [],
   "source": [
    "train_data = pd.read_csv(\"Train_data.csv\",encoding='ISO-8859-1')"
   ]
  },
  {
   "cell_type": "code",
   "execution_count": 88,
   "metadata": {},
   "outputs": [
    {
     "data": {
      "text/plain": [
       "(3333, 21)"
      ]
     },
     "execution_count": 88,
     "metadata": {},
     "output_type": "execute_result"
    }
   ],
   "source": [
    "#Check dimension\n",
    "train_data.shape  # rows = 3333 , columns = 21"
   ]
  },
  {
   "cell_type": "code",
   "execution_count": 89,
   "metadata": {},
   "outputs": [],
   "source": [
    "#get names of the columns\n",
    "col_names = pd.DataFrame(train_data.columns)\n",
    "#col_names"
   ]
  },
  {
   "cell_type": "code",
   "execution_count": 90,
   "metadata": {},
   "outputs": [
    {
     "data": {
      "text/html": [
       "<div>\n",
       "<style scoped>\n",
       "    .dataframe tbody tr th:only-of-type {\n",
       "        vertical-align: middle;\n",
       "    }\n",
       "\n",
       "    .dataframe tbody tr th {\n",
       "        vertical-align: top;\n",
       "    }\n",
       "\n",
       "    .dataframe thead th {\n",
       "        text-align: right;\n",
       "    }\n",
       "</style>\n",
       "<table border=\"1\" class=\"dataframe\">\n",
       "  <thead>\n",
       "    <tr style=\"text-align: right;\">\n",
       "      <th></th>\n",
       "      <th>state</th>\n",
       "      <th>account length</th>\n",
       "      <th>area code</th>\n",
       "      <th>phone number</th>\n",
       "      <th>international plan</th>\n",
       "      <th>voice mail plan</th>\n",
       "      <th>number vmail messages</th>\n",
       "      <th>total day minutes</th>\n",
       "      <th>total day calls</th>\n",
       "      <th>total day charge</th>\n",
       "      <th>...</th>\n",
       "      <th>total eve calls</th>\n",
       "      <th>total eve charge</th>\n",
       "      <th>total night minutes</th>\n",
       "      <th>total night calls</th>\n",
       "      <th>total night charge</th>\n",
       "      <th>total intl minutes</th>\n",
       "      <th>total intl calls</th>\n",
       "      <th>total intl charge</th>\n",
       "      <th>number customer service calls</th>\n",
       "      <th>Churn</th>\n",
       "    </tr>\n",
       "  </thead>\n",
       "  <tbody>\n",
       "    <tr>\n",
       "      <th>0</th>\n",
       "      <td>KS</td>\n",
       "      <td>128</td>\n",
       "      <td>415</td>\n",
       "      <td>382-4657</td>\n",
       "      <td>no</td>\n",
       "      <td>yes</td>\n",
       "      <td>25</td>\n",
       "      <td>265.1</td>\n",
       "      <td>110</td>\n",
       "      <td>45.07</td>\n",
       "      <td>...</td>\n",
       "      <td>99</td>\n",
       "      <td>16.78</td>\n",
       "      <td>244.7</td>\n",
       "      <td>91</td>\n",
       "      <td>11.01</td>\n",
       "      <td>10.0</td>\n",
       "      <td>3</td>\n",
       "      <td>2.70</td>\n",
       "      <td>1</td>\n",
       "      <td>False.</td>\n",
       "    </tr>\n",
       "    <tr>\n",
       "      <th>1</th>\n",
       "      <td>OH</td>\n",
       "      <td>107</td>\n",
       "      <td>415</td>\n",
       "      <td>371-7191</td>\n",
       "      <td>no</td>\n",
       "      <td>yes</td>\n",
       "      <td>26</td>\n",
       "      <td>161.6</td>\n",
       "      <td>123</td>\n",
       "      <td>27.47</td>\n",
       "      <td>...</td>\n",
       "      <td>103</td>\n",
       "      <td>16.62</td>\n",
       "      <td>254.4</td>\n",
       "      <td>103</td>\n",
       "      <td>11.45</td>\n",
       "      <td>13.7</td>\n",
       "      <td>3</td>\n",
       "      <td>3.70</td>\n",
       "      <td>1</td>\n",
       "      <td>False.</td>\n",
       "    </tr>\n",
       "    <tr>\n",
       "      <th>2</th>\n",
       "      <td>NJ</td>\n",
       "      <td>137</td>\n",
       "      <td>415</td>\n",
       "      <td>358-1921</td>\n",
       "      <td>no</td>\n",
       "      <td>no</td>\n",
       "      <td>0</td>\n",
       "      <td>243.4</td>\n",
       "      <td>114</td>\n",
       "      <td>41.38</td>\n",
       "      <td>...</td>\n",
       "      <td>110</td>\n",
       "      <td>10.30</td>\n",
       "      <td>162.6</td>\n",
       "      <td>104</td>\n",
       "      <td>7.32</td>\n",
       "      <td>12.2</td>\n",
       "      <td>5</td>\n",
       "      <td>3.29</td>\n",
       "      <td>0</td>\n",
       "      <td>False.</td>\n",
       "    </tr>\n",
       "    <tr>\n",
       "      <th>3</th>\n",
       "      <td>OH</td>\n",
       "      <td>84</td>\n",
       "      <td>408</td>\n",
       "      <td>375-9999</td>\n",
       "      <td>yes</td>\n",
       "      <td>no</td>\n",
       "      <td>0</td>\n",
       "      <td>299.4</td>\n",
       "      <td>71</td>\n",
       "      <td>50.90</td>\n",
       "      <td>...</td>\n",
       "      <td>88</td>\n",
       "      <td>5.26</td>\n",
       "      <td>196.9</td>\n",
       "      <td>89</td>\n",
       "      <td>8.86</td>\n",
       "      <td>6.6</td>\n",
       "      <td>7</td>\n",
       "      <td>1.78</td>\n",
       "      <td>2</td>\n",
       "      <td>False.</td>\n",
       "    </tr>\n",
       "  </tbody>\n",
       "</table>\n",
       "<p>4 rows × 21 columns</p>\n",
       "</div>"
      ],
      "text/plain": [
       "  state  account length  area code phone number international plan  \\\n",
       "0    KS             128        415     382-4657                 no   \n",
       "1    OH             107        415     371-7191                 no   \n",
       "2    NJ             137        415     358-1921                 no   \n",
       "3    OH              84        408     375-9999                yes   \n",
       "\n",
       "  voice mail plan  number vmail messages  total day minutes  total day calls  \\\n",
       "0             yes                     25              265.1              110   \n",
       "1             yes                     26              161.6              123   \n",
       "2              no                      0              243.4              114   \n",
       "3              no                      0              299.4               71   \n",
       "\n",
       "   total day charge   ...     total eve calls  total eve charge  \\\n",
       "0             45.07   ...                  99             16.78   \n",
       "1             27.47   ...                 103             16.62   \n",
       "2             41.38   ...                 110             10.30   \n",
       "3             50.90   ...                  88              5.26   \n",
       "\n",
       "   total night minutes  total night calls  total night charge  \\\n",
       "0                244.7                 91               11.01   \n",
       "1                254.4                103               11.45   \n",
       "2                162.6                104                7.32   \n",
       "3                196.9                 89                8.86   \n",
       "\n",
       "   total intl minutes  total intl calls  total intl charge  \\\n",
       "0                10.0                 3               2.70   \n",
       "1                13.7                 3               3.70   \n",
       "2                12.2                 5               3.29   \n",
       "3                 6.6                 7               1.78   \n",
       "\n",
       "   number customer service calls    Churn  \n",
       "0                              1   False.  \n",
       "1                              1   False.  \n",
       "2                              0   False.  \n",
       "3                              2   False.  \n",
       "\n",
       "[4 rows x 21 columns]"
      ]
     },
     "execution_count": 90,
     "metadata": {},
     "output_type": "execute_result"
    }
   ],
   "source": [
    "train_data.head(4)"
   ]
  },
  {
   "cell_type": "code",
   "execution_count": 91,
   "metadata": {},
   "outputs": [],
   "source": [
    "# No need of account length for churn reduction\n",
    "#get the index of column account length and remove it from the dataset\n",
    "account_length_index = train_data.columns.get_loc(\"account length\")\n",
    "account_length_index\n",
    "train_data= train_data.drop(train_data.columns[account_length_index],axis=1)"
   ]
  },
  {
   "cell_type": "code",
   "execution_count": 92,
   "metadata": {},
   "outputs": [
    {
     "data": {
      "text/plain": [
       "1"
      ]
     },
     "execution_count": 92,
     "metadata": {},
     "output_type": "execute_result"
    }
   ],
   "source": [
    "account_length_index"
   ]
  },
  {
   "cell_type": "code",
   "execution_count": 93,
   "metadata": {},
   "outputs": [
    {
     "name": "stdout",
     "output_type": "stream",
     "text": [
      "<class 'pandas.core.frame.DataFrame'>\n",
      "RangeIndex: 3333 entries, 0 to 3332\n",
      "Data columns (total 20 columns):\n",
      "state                            3333 non-null object\n",
      "area code                        3333 non-null int64\n",
      "phone number                     3333 non-null object\n",
      "international plan               3333 non-null object\n",
      "voice mail plan                  3333 non-null object\n",
      "number vmail messages            3333 non-null int64\n",
      "total day minutes                3333 non-null float64\n",
      "total day calls                  3333 non-null int64\n",
      "total day charge                 3333 non-null float64\n",
      "total eve minutes                3333 non-null float64\n",
      "total eve calls                  3333 non-null int64\n",
      "total eve charge                 3333 non-null float64\n",
      "total night minutes              3333 non-null float64\n",
      "total night calls                3333 non-null int64\n",
      "total night charge               3333 non-null float64\n",
      "total intl minutes               3333 non-null float64\n",
      "total intl calls                 3333 non-null int64\n",
      "total intl charge                3333 non-null float64\n",
      "number customer service calls    3333 non-null int64\n",
      "Churn                            3333 non-null object\n",
      "dtypes: float64(8), int64(7), object(5)\n",
      "memory usage: 520.9+ KB\n"
     ]
    }
   ],
   "source": [
    "train_data.info()\n",
    "#Original dataset have 8 float variables, 7 int and 5 objects"
   ]
  },
  {
   "cell_type": "code",
   "execution_count": 94,
   "metadata": {},
   "outputs": [
    {
     "data": {
      "text/plain": [
       "Index(['area code', 'number vmail messages', 'total day minutes',\n",
       "       'total day calls', 'total day charge', 'total eve minutes',\n",
       "       'total eve calls', 'total eve charge', 'total night minutes',\n",
       "       'total night calls', 'total night charge', 'total intl minutes',\n",
       "       'total intl calls', 'total intl charge',\n",
       "       'number customer service calls'],\n",
       "      dtype='object')"
      ]
     },
     "execution_count": 94,
     "metadata": {},
     "output_type": "execute_result"
    }
   ],
   "source": [
    "num_data = train_data._get_numeric_data()\n",
    "num_data.columns\n",
    "#num_data = pd.to_numeric(num_data,errors='ignore')"
   ]
  },
  {
   "cell_type": "code",
   "execution_count": 95,
   "metadata": {},
   "outputs": [
    {
     "data": {
      "text/html": [
       "<div>\n",
       "<style scoped>\n",
       "    .dataframe tbody tr th:only-of-type {\n",
       "        vertical-align: middle;\n",
       "    }\n",
       "\n",
       "    .dataframe tbody tr th {\n",
       "        vertical-align: top;\n",
       "    }\n",
       "\n",
       "    .dataframe thead th {\n",
       "        text-align: right;\n",
       "    }\n",
       "</style>\n",
       "<table border=\"1\" class=\"dataframe\">\n",
       "  <thead>\n",
       "    <tr style=\"text-align: right;\">\n",
       "      <th></th>\n",
       "      <th>state</th>\n",
       "      <th>phone number</th>\n",
       "      <th>international plan</th>\n",
       "      <th>voice mail plan</th>\n",
       "      <th>Churn</th>\n",
       "    </tr>\n",
       "  </thead>\n",
       "  <tbody>\n",
       "    <tr>\n",
       "      <th>0</th>\n",
       "      <td>KS</td>\n",
       "      <td>382-4657</td>\n",
       "      <td>no</td>\n",
       "      <td>yes</td>\n",
       "      <td>False.</td>\n",
       "    </tr>\n",
       "    <tr>\n",
       "      <th>1</th>\n",
       "      <td>OH</td>\n",
       "      <td>371-7191</td>\n",
       "      <td>no</td>\n",
       "      <td>yes</td>\n",
       "      <td>False.</td>\n",
       "    </tr>\n",
       "    <tr>\n",
       "      <th>2</th>\n",
       "      <td>NJ</td>\n",
       "      <td>358-1921</td>\n",
       "      <td>no</td>\n",
       "      <td>no</td>\n",
       "      <td>False.</td>\n",
       "    </tr>\n",
       "    <tr>\n",
       "      <th>3</th>\n",
       "      <td>OH</td>\n",
       "      <td>375-9999</td>\n",
       "      <td>yes</td>\n",
       "      <td>no</td>\n",
       "      <td>False.</td>\n",
       "    </tr>\n",
       "    <tr>\n",
       "      <th>4</th>\n",
       "      <td>OK</td>\n",
       "      <td>330-6626</td>\n",
       "      <td>yes</td>\n",
       "      <td>no</td>\n",
       "      <td>False.</td>\n",
       "    </tr>\n",
       "  </tbody>\n",
       "</table>\n",
       "</div>"
      ],
      "text/plain": [
       "  state phone number international plan voice mail plan    Churn\n",
       "0    KS     382-4657                 no             yes   False.\n",
       "1    OH     371-7191                 no             yes   False.\n",
       "2    NJ     358-1921                 no              no   False.\n",
       "3    OH     375-9999                yes              no   False.\n",
       "4    OK     330-6626                yes              no   False."
      ]
     },
     "execution_count": 95,
     "metadata": {},
     "output_type": "execute_result"
    }
   ],
   "source": [
    "cat_data = train_data.select_dtypes(include=['object'])\n",
    "cat_data.head()"
   ]
  },
  {
   "cell_type": "code",
   "execution_count": 96,
   "metadata": {},
   "outputs": [],
   "source": [
    "#Now we have two subset of train dataset\n",
    "# 1. num_data which contains only numerical variables data\n",
    "# 2. cat_data which contains only categorical variables data"
   ]
  },
  {
   "cell_type": "code",
   "execution_count": 97,
   "metadata": {},
   "outputs": [
    {
     "data": {
      "text/plain": [
       "((3333, 20), (3333, 5), (3333, 15))"
      ]
     },
     "execution_count": 97,
     "metadata": {},
     "output_type": "execute_result"
    }
   ],
   "source": [
    "train_data.shape, cat_data.shape, num_data.shape"
   ]
  },
  {
   "cell_type": "code",
   "execution_count": 98,
   "metadata": {},
   "outputs": [],
   "source": [
    "#Churn is our target variable which is categorical\n",
    "#Let's check out if there exits target imbalance class problem "
   ]
  },
  {
   "cell_type": "code",
   "execution_count": 99,
   "metadata": {},
   "outputs": [
    {
     "data": {
      "text/plain": [
       "<matplotlib.axes._subplots.AxesSubplot at 0x27d0104b208>"
      ]
     },
     "execution_count": 99,
     "metadata": {},
     "output_type": "execute_result"
    },
    {
     "data": {
      "image/png": "[encoded data removed]",
      "text/plain": [
       "<Figure size 432x288 with 1 Axes>"
      ]
     },
     "metadata": {},
     "output_type": "display_data"
    }
   ],
   "source": [
    "sns.countplot(train_data['Churn'], data = train_data)\n",
    "#It can be seen here that around 2850 elements are False and around 483 elements are True\n",
    "#Thus we can say that target imbalance problem exists here\n"
   ]
  },
  {
   "cell_type": "code",
   "execution_count": 100,
   "metadata": {},
   "outputs": [
    {
     "data": {
      "text/plain": [
       "0.14491449144914492"
      ]
     },
     "execution_count": 100,
     "metadata": {},
     "output_type": "execute_result"
    }
   ],
   "source": [
    "#calculating event rate\n",
    "483/3333 #14.49%"
   ]
  },
  {
   "cell_type": "code",
   "execution_count": 101,
   "metadata": {},
   "outputs": [],
   "source": [
    "import random as rd"
   ]
  },
  {
   "cell_type": "code",
   "execution_count": 102,
   "metadata": {},
   "outputs": [],
   "source": [
    "sample_set = train_data.sample(frac = 0.70, replace = True)"
   ]
  },
  {
   "cell_type": "code",
   "execution_count": 103,
   "metadata": {},
   "outputs": [
    {
     "data": {
      "text/plain": [
       "2333.1"
      ]
     },
     "execution_count": 103,
     "metadata": {},
     "output_type": "execute_result"
    }
   ],
   "source": [
    "#calculate number of observations in the sample\n",
    "(3333*70)/100 #2333"
   ]
  },
  {
   "cell_type": "code",
   "execution_count": 104,
   "metadata": {
    "scrolled": true
   },
   "outputs": [
    {
     "data": {
      "text/plain": [
       "<matplotlib.axes._subplots.AxesSubplot at 0x27d0218e1d0>"
      ]
     },
     "execution_count": 104,
     "metadata": {},
     "output_type": "execute_result"
    },
    {
     "data": {
      "image/png": "[encoded data removed]",
      "text/plain": [
       "<Figure size 432x288 with 1 Axes>"
      ]
     },
     "metadata": {},
     "output_type": "display_data"
    }
   ],
   "source": [
    "sns.countplot(sample_set['Churn'],data=sample_set)"
   ]
  },
  {
   "cell_type": "code",
   "execution_count": 105,
   "metadata": {},
   "outputs": [
    {
     "data": {
      "text/plain": [
       "0.143591941705958"
      ]
     },
     "execution_count": 105,
     "metadata": {},
     "output_type": "execute_result"
    }
   ],
   "source": [
    "#Calculate Churn event rate\n",
    "335/2333\n",
    "#14.35 % rate of churning on a sample set of 2333 observations"
   ]
  },
  {
   "cell_type": "code",
   "execution_count": 106,
   "metadata": {},
   "outputs": [],
   "source": [
    "#Now from here onwards we are having sample_set as our dataset to apply further processes over it."
   ]
  },
  {
   "cell_type": "code",
   "execution_count": 107,
   "metadata": {
    "scrolled": true
   },
   "outputs": [
    {
     "data": {
      "text/plain": [
       "Index(['state', 'area code', 'phone number', 'international plan',\n",
       "       'voice mail plan', 'number vmail messages', 'total day minutes',\n",
       "       'total day calls', 'total day charge', 'total eve minutes',\n",
       "       'total eve calls', 'total eve charge', 'total night minutes',\n",
       "       'total night calls', 'total night charge', 'total intl minutes',\n",
       "       'total intl calls', 'total intl charge',\n",
       "       'number customer service calls', 'Churn'],\n",
       "      dtype='object')"
      ]
     },
     "execution_count": 107,
     "metadata": {},
     "output_type": "execute_result"
    }
   ],
   "source": [
    "#check column names\n",
    "sample_set.columns"
   ]
  },
  {
   "cell_type": "code",
   "execution_count": 108,
   "metadata": {},
   "outputs": [
    {
     "data": {
      "text/plain": [
       "((2333, 15), (2333, 5))"
      ]
     },
     "execution_count": 108,
     "metadata": {},
     "output_type": "execute_result"
    }
   ],
   "source": [
    "sample_num_data = sample_set._get_numeric_data()\n",
    "sample_cat_data = sample_set.select_dtypes(include=['object'])\n",
    "sample_num_data.shape , sample_cat_data.shape"
   ]
  },
  {
   "cell_type": "code",
   "execution_count": 109,
   "metadata": {},
   "outputs": [],
   "source": [
    "#Built The New Dataset For Further Operations:\n",
    "new_set = sample_set.sample(frac = 0.70, replace = True)"
   ]
  },
  {
   "cell_type": "code",
   "execution_count": 110,
   "metadata": {},
   "outputs": [
    {
     "data": {
      "text/plain": [
       "(1633, 20)"
      ]
     },
     "execution_count": 110,
     "metadata": {},
     "output_type": "execute_result"
    }
   ],
   "source": [
    "#Check the dimension\n",
    "new_set.shape"
   ]
  },
  {
   "cell_type": "code",
   "execution_count": 111,
   "metadata": {},
   "outputs": [
    {
     "data": {
      "text/plain": [
       "Index(['state', 'area code', 'phone number', 'international plan',\n",
       "       'voice mail plan', 'number vmail messages', 'total day minutes',\n",
       "       'total day calls', 'total day charge', 'total eve minutes',\n",
       "       'total eve calls', 'total eve charge', 'total night minutes',\n",
       "       'total night calls', 'total night charge', 'total intl minutes',\n",
       "       'total intl calls', 'total intl charge',\n",
       "       'number customer service calls', 'Churn'],\n",
       "      dtype='object')"
      ]
     },
     "execution_count": 111,
     "metadata": {},
     "output_type": "execute_result"
    }
   ],
   "source": [
    "#Check the column names\n",
    "new_set.columns"
   ]
  },
  {
   "cell_type": "code",
   "execution_count": 112,
   "metadata": {},
   "outputs": [],
   "source": [
    "#We need only numeric variables so we drop the categorical data:\n",
    "state_index = new_set.columns.get_loc(\"state\")\n",
    "state_index\n",
    "new_set= new_set.drop(new_set.columns[state_index],axis=1)\n",
    "\n",
    "phone_number_index = new_set.columns.get_loc(\"phone number\")\n",
    "phone_number_index\n",
    "new_set=new_set.drop(new_set.columns[phone_number_index],axis=1)\n",
    "\n",
    "international_plan_index = new_set.columns.get_loc(\"international plan\")\n",
    "international_plan_index\n",
    "new_set=new_set.drop(new_set.columns[international_plan_index],axis=1)\n",
    "\n",
    "voice_mail_plan_index = new_set.columns.get_loc(\"voice mail plan\")\n",
    "voice_mail_plan_index\n",
    "new_set=new_set.drop(new_set.columns[voice_mail_plan_index],axis=1)\n",
    "\n",
    "area_code_index = new_set.columns.get_loc(\"area code\")\n",
    "area_code_index\n",
    "new_set= new_set.drop(new_set.columns[area_code_index],axis=1)\n",
    "\n",
    "number_customer_service_calls_index = new_set.columns.get_loc(\"number customer service calls\")\n",
    "number_customer_service_calls_index\n",
    "new_set= new_set.drop(new_set.columns[number_customer_service_calls_index],axis=1)"
   ]
  },
  {
   "cell_type": "code",
   "execution_count": 113,
   "metadata": {},
   "outputs": [
    {
     "data": {
      "text/plain": [
       "Index(['number vmail messages', 'total day minutes', 'total day calls',\n",
       "       'total day charge', 'total eve minutes', 'total eve calls',\n",
       "       'total eve charge', 'total night minutes', 'total night calls',\n",
       "       'total night charge', 'total intl minutes', 'total intl calls',\n",
       "       'total intl charge', 'Churn'],\n",
       "      dtype='object')"
      ]
     },
     "execution_count": 113,
     "metadata": {},
     "output_type": "execute_result"
    }
   ],
   "source": [
    "#After deletion check the new_set dataset again\n",
    "new_set.columns"
   ]
  },
  {
   "cell_type": "code",
   "execution_count": 114,
   "metadata": {},
   "outputs": [
    {
     "data": {
      "text/plain": [
       "((1633, 13), (1633, 1))"
      ]
     },
     "execution_count": 114,
     "metadata": {},
     "output_type": "execute_result"
    }
   ],
   "source": [
    "new_num_data = new_set._get_numeric_data()\n",
    "new_cat_data = new_set.select_dtypes(include=['object'])\n",
    "new_num_data.shape , new_cat_data.shape"
   ]
  },
  {
   "cell_type": "code",
   "execution_count": 115,
   "metadata": {},
   "outputs": [
    {
     "data": {
      "text/plain": [
       "Index(['number vmail messages', 'total day minutes', 'total day calls',\n",
       "       'total day charge', 'total eve minutes', 'total eve calls',\n",
       "       'total eve charge', 'total night minutes', 'total night calls',\n",
       "       'total night charge', 'total intl minutes', 'total intl calls',\n",
       "       'total intl charge'],\n",
       "      dtype='object')"
      ]
     },
     "execution_count": 115,
     "metadata": {},
     "output_type": "execute_result"
    }
   ],
   "source": [
    "#Extrcting Numeric Column Names\n",
    "new_cnames=new_num_data.columns\n",
    "new_cnames"
   ]
  },
  {
   "cell_type": "markdown",
   "metadata": {},
   "source": [
    "## Check for Missing values column wise \n"
   ]
  },
  {
   "cell_type": "code",
   "execution_count": 116,
   "metadata": {},
   "outputs": [
    {
     "data": {
      "text/plain": [
       "number vmail messages    0\n",
       "total day minutes        0\n",
       "total day calls          0\n",
       "total day charge         0\n",
       "total eve minutes        0\n",
       "total eve calls          0\n",
       "total eve charge         0\n",
       "total night minutes      0\n",
       "total night calls        0\n",
       "total night charge       0\n",
       "total intl minutes       0\n",
       "total intl calls         0\n",
       "total intl charge        0\n",
       "Churn                    0\n",
       "dtype: int64"
      ]
     },
     "execution_count": 116,
     "metadata": {},
     "output_type": "execute_result"
    }
   ],
   "source": [
    "pd.isna(new_set).sum()\n",
    "    \n",
    "#No missing values are available in our sample dataset"
   ]
  },
  {
   "cell_type": "markdown",
   "metadata": {},
   "source": [
    "# Outlier Analysis"
   ]
  },
  {
   "cell_type": "code",
   "execution_count": 117,
   "metadata": {},
   "outputs": [
    {
     "data": {
      "text/plain": [
       "array([[<matplotlib.axes._subplots.AxesSubplot object at 0x0000027D02086FD0>,\n",
       "        <matplotlib.axes._subplots.AxesSubplot object at 0x0000027D020B22E8>,\n",
       "        <matplotlib.axes._subplots.AxesSubplot object at 0x0000027D020DB6D8>,\n",
       "        <matplotlib.axes._subplots.AxesSubplot object at 0x0000027D02105AC8>],\n",
       "       [<matplotlib.axes._subplots.AxesSubplot object at 0x0000027D0212CEB8>,\n",
       "        <matplotlib.axes._subplots.AxesSubplot object at 0x0000027D0212CEF0>,\n",
       "        <matplotlib.axes._subplots.AxesSubplot object at 0x0000027D021D96D8>,\n",
       "        <matplotlib.axes._subplots.AxesSubplot object at 0x0000027D02202AC8>],\n",
       "       [<matplotlib.axes._subplots.AxesSubplot object at 0x0000027D0222CEB8>,\n",
       "        <matplotlib.axes._subplots.AxesSubplot object at 0x0000027D0225B2E8>,\n",
       "        <matplotlib.axes._subplots.AxesSubplot object at 0x0000027D022876A0>,\n",
       "        <matplotlib.axes._subplots.AxesSubplot object at 0x0000027D022AFA90>],\n",
       "       [<matplotlib.axes._subplots.AxesSubplot object at 0x0000027D022DAE80>,\n",
       "        <matplotlib.axes._subplots.AxesSubplot object at 0x0000027D0230C2B0>,\n",
       "        <matplotlib.axes._subplots.AxesSubplot object at 0x0000027D02333940>,\n",
       "        <matplotlib.axes._subplots.AxesSubplot object at 0x0000027D0235CFD0>]],\n",
       "      dtype=object)"
      ]
     },
     "execution_count": 117,
     "metadata": {},
     "output_type": "execute_result"
    },
    {
     "data": {
      "image/png": "[encoded data removed]",
      "text/plain": [
       "<Figure size 432x288 with 16 Axes>"
      ]
     },
     "metadata": {},
     "output_type": "display_data"
    }
   ],
   "source": [
    "#Visualization Of Outliers\n",
    "import random\n",
    "random.seed(1234)\n",
    "new_set.boxplot(by='Churn', \n",
    "                       column=['number vmail messages','total day minutes','total day calls',\n",
    "                               'total day charge','total eve minutes',\n",
    "                               'total eve calls','total eve charge','total night minutes','total night calls','total night charge',\n",
    "                                'total intl minutes','total intl calls','total intl charge'\n",
    "                              ], \n",
    "                       grid=False)"
   ]
  },
  {
   "cell_type": "code",
   "execution_count": 118,
   "metadata": {},
   "outputs": [
    {
     "name": "stdout",
     "output_type": "stream",
     "text": [
      "number vmail messages _______\n",
      "Minimum Value :  -28.5\n",
      "Maximum Value :  47.5\n",
      "\n",
      "total day minutes _______\n",
      "Minimum Value :  15.750000000000014\n",
      "Maximum Value :  340.15\n",
      "\n",
      "total day calls _______\n",
      "Minimum Value :  45.0\n",
      "Maximum Value :  157.0\n",
      "\n",
      "total day charge _______\n",
      "Minimum Value :  2.6750000000000007\n",
      "Maximum Value :  57.834999999999994\n",
      "\n",
      "total eve minutes _______\n",
      "Minimum Value :  63.70000000000002\n",
      "Maximum Value :  332.5\n",
      "\n",
      "total eve calls _______\n",
      "Minimum Value :  47.5\n",
      "Maximum Value :  155.5\n",
      "\n",
      "total eve charge _______\n",
      "Minimum Value :  5.414999999999999\n",
      "Maximum Value :  28.255000000000003\n",
      "\n",
      "total night minutes _______\n",
      "Minimum Value :  67.89999999999999\n",
      "Maximum Value :  337.5\n",
      "\n",
      "total night calls _______\n",
      "Minimum Value :  48.0\n",
      "Maximum Value :  152.0\n",
      "\n",
      "total night charge _______\n",
      "Minimum Value :  3.0650000000000004\n",
      "Maximum Value :  15.185\n",
      "\n",
      "total intl minutes _______\n",
      "Minimum Value :  3.049999999999998\n",
      "Maximum Value :  17.85\n",
      "\n",
      "total intl calls _______\n",
      "Minimum Value :  -1.5\n",
      "Maximum Value :  10.5\n",
      "\n",
      "total intl charge _______\n",
      "Minimum Value :  0.8199999999999998\n",
      "Maximum Value :  4.82\n",
      "\n"
     ]
    }
   ],
   "source": [
    "import random\n",
    "random.seed(1234)\n",
    "for i in new_cnames:\n",
    "    print(i,\"_______\")\n",
    "    q75, q25 = np.percentile(new_num_data.loc[:,i], [75 ,25])\n",
    "    iqr = q75 - q25 # inter-quartile range\n",
    "\n",
    "    minimum = q25 - (iqr*1.5) # Lower fence\n",
    "    maximum = q75 + (iqr*1.5) # Upper fence\n",
    "    \n",
    "    print(\"Minimum Value : \" ,minimum)\n",
    "    print(\"Maximum Value : \" ,maximum)\n",
    "    print(\"\")"
   ]
  },
  {
   "cell_type": "code",
   "execution_count": 119,
   "metadata": {},
   "outputs": [],
   "source": [
    "# included_cols=[6,7,8,9,10,11,12,13,14,15,16,17,18]\n",
    "# new_num_data = new_num_data.iloc[:,included_cols]\n",
    "# new_num_data.iloc[:,included_cols] < minimum,:new_num_data[:,included_cols]=np.nan\n",
    "# new_num_data.iloc[:,included_cols] > maximum,:new_num_data[:,included_cols]=np.nan\n",
    "#Above code is for looping but that doesn't work...\n",
    "\n",
    "#Here I am trying with the help of loop but that doesn't work.So i am here use each and every column name.\n",
    "\n",
    "new_num_data_min=new_num_data.loc[new_num_data['number vmail messages'] < minimum,:'number vmail messages']=np.nan\n",
    "new_num_data_max=new_num_data.loc[new_num_data['number vmail messages'] > maximum,:'number vmail messages']=np.nan\n",
    "\n",
    "new_num_data.loc[new_num_data['total day minutes'] < minimum,:'total day minutes']=np.nan\n",
    "new_num_data.loc[new_num_data['total day minutes'] > maximum,:'total day minutes']=np.nan\n",
    "\n",
    "new_num_data.loc[new_num_data['total day calls'] < minimum,:'total day calls']=np.nan\n",
    "new_num_data.loc[new_num_data['total day calls'] > maximum,:'total day calls']=np.nan\n",
    "\n",
    "new_num_data.loc[new_num_data['total day charge'] < minimum,:'total day charge']=np.nan\n",
    "new_num_data.loc[new_num_data['total day charge'] > maximum,:'total day charge']=np.nan\n",
    "\n",
    "new_num_data.loc[new_num_data['total eve minutes'] < minimum,:'total eve minutes']=np.nan\n",
    "new_num_data.loc[new_num_data['total eve minutes'] > maximum,:'total eve minutes']=np.nan\n",
    "\n",
    "new_num_data.loc[new_num_data['total eve calls'] < minimum,:'total eve calls']=np.nan\n",
    "new_num_data.loc[new_num_data['total eve calls'] > maximum,:'total eve calls']=np.nan\n",
    "\n",
    "new_num_data.loc[new_num_data['total eve charge'] < minimum,:'total eve charge']=np.nan\n",
    "new_num_data.loc[new_num_data['total eve charge'] > maximum,:'total eve charge']=np.nan\n",
    "\n",
    "new_num_data.loc[new_num_data['total night minutes'] < minimum,:'total night minutes']=np.nan\n",
    "new_num_data.loc[new_num_data['total night minutes'] > maximum,:'total night minutes']=np.nan\n",
    "\n",
    "new_num_data.loc[new_num_data['total night calls'] < minimum,:'total night calls']=np.nan\n",
    "new_num_data.loc[new_num_data['total night calls'] > maximum,:'total night calls']=np.nan\n",
    "\n",
    "new_num_data.loc[new_num_data['total night charge'] < minimum,:'total night charge']=np.nan\n",
    "new_num_data.loc[new_num_data['total night charge'] > maximum,:'total night charge']=np.nan\n",
    "\n",
    "new_num_data.loc[new_num_data['total intl minutes'] < minimum,:'total intl minutes']=np.nan\n",
    "new_num_data.loc[new_num_data['total intl minutes'] > maximum,:'total intl minutes']=np.nan\n",
    "\n",
    "new_num_data.loc[new_num_data['total intl calls'] < minimum,:'total intl calls']=np.nan\n",
    "new_num_data.loc[new_num_data['total intl calls'] > maximum,:'total intl calls']=np.nan\n",
    "\n",
    "new_num_data.loc[new_num_data['total intl charge'] < minimum,:'total intl charge']=np.nan\n",
    "new_num_data.loc[new_num_data['total intl charge'] > maximum,:'total intl charge']=np.nan"
   ]
  },
  {
   "cell_type": "code",
   "execution_count": 120,
   "metadata": {},
   "outputs": [
    {
     "data": {
      "text/plain": [
       "20"
      ]
     },
     "execution_count": 120,
     "metadata": {},
     "output_type": "execute_result"
    }
   ],
   "source": [
    "#Check the outliers value\n",
    "new_num_data['number vmail messages'].isnull().sum()\n",
    "new_num_data['number vmail messages'].isnull().sum()\n",
    "new_num_data['total day minutes'].isnull().sum()\n",
    "new_num_data['total day calls'].isnull().sum()\n",
    "new_num_data['total day charge'].isnull().sum()\n",
    "new_num_data['total eve minutes'].isnull().sum()\n",
    "new_num_data['total eve calls'].isnull().sum()\n",
    "new_num_data['total eve charge'].isnull().sum()\n",
    "new_num_data['total intl minutes'].isnull().sum()\n",
    "new_num_data['total intl calls'].isnull().sum()\n",
    "new_num_data['total intl charge'].isnull().sum()\n"
   ]
  },
  {
   "cell_type": "code",
   "execution_count": 121,
   "metadata": {},
   "outputs": [
    {
     "data": {
      "text/html": [
       "<div>\n",
       "<style scoped>\n",
       "    .dataframe tbody tr th:only-of-type {\n",
       "        vertical-align: middle;\n",
       "    }\n",
       "\n",
       "    .dataframe tbody tr th {\n",
       "        vertical-align: top;\n",
       "    }\n",
       "\n",
       "    .dataframe thead th {\n",
       "        text-align: right;\n",
       "    }\n",
       "</style>\n",
       "<table border=\"1\" class=\"dataframe\">\n",
       "  <thead>\n",
       "    <tr style=\"text-align: right;\">\n",
       "      <th></th>\n",
       "      <th>0</th>\n",
       "    </tr>\n",
       "  </thead>\n",
       "  <tbody>\n",
       "    <tr>\n",
       "      <th>number vmail messages</th>\n",
       "      <td>1633</td>\n",
       "    </tr>\n",
       "    <tr>\n",
       "      <th>total day minutes</th>\n",
       "      <td>1633</td>\n",
       "    </tr>\n",
       "    <tr>\n",
       "      <th>total day calls</th>\n",
       "      <td>1633</td>\n",
       "    </tr>\n",
       "    <tr>\n",
       "      <th>total day charge</th>\n",
       "      <td>1633</td>\n",
       "    </tr>\n",
       "    <tr>\n",
       "      <th>total eve minutes</th>\n",
       "      <td>1633</td>\n",
       "    </tr>\n",
       "    <tr>\n",
       "      <th>total eve calls</th>\n",
       "      <td>1633</td>\n",
       "    </tr>\n",
       "    <tr>\n",
       "      <th>total eve charge</th>\n",
       "      <td>1633</td>\n",
       "    </tr>\n",
       "    <tr>\n",
       "      <th>total night minutes</th>\n",
       "      <td>1633</td>\n",
       "    </tr>\n",
       "    <tr>\n",
       "      <th>total night calls</th>\n",
       "      <td>1633</td>\n",
       "    </tr>\n",
       "    <tr>\n",
       "      <th>total night charge</th>\n",
       "      <td>1631</td>\n",
       "    </tr>\n",
       "    <tr>\n",
       "      <th>total intl minutes</th>\n",
       "      <td>1613</td>\n",
       "    </tr>\n",
       "    <tr>\n",
       "      <th>total intl calls</th>\n",
       "      <td>667</td>\n",
       "    </tr>\n",
       "    <tr>\n",
       "      <th>total intl charge</th>\n",
       "      <td>20</td>\n",
       "    </tr>\n",
       "  </tbody>\n",
       "</table>\n",
       "</div>"
      ],
      "text/plain": [
       "                          0\n",
       "number vmail messages  1633\n",
       "total day minutes      1633\n",
       "total day calls        1633\n",
       "total day charge       1633\n",
       "total eve minutes      1633\n",
       "total eve calls        1633\n",
       "total eve charge       1633\n",
       "total night minutes    1633\n",
       "total night calls      1633\n",
       "total night charge     1631\n",
       "total intl minutes     1613\n",
       "total intl calls        667\n",
       "total intl charge        20"
      ]
     },
     "execution_count": 121,
     "metadata": {},
     "output_type": "execute_result"
    }
   ],
   "source": [
    "#Calculate Missing Value\n",
    "missing_val=pd.DataFrame(new_num_data.isnull().sum())\n",
    "missing_val"
   ]
  },
  {
   "cell_type": "code",
   "execution_count": null,
   "metadata": {},
   "outputs": [],
   "source": [
    "#Impute With KNN\n",
    "new_set = pd.DataFrame(KNN(k=1).complete(new_set),columns=new_set.columns)   #Here KNN is not work.There is a problem with the complete attribute."
   ]
  },
  {
   "cell_type": "code",
   "execution_count": 122,
   "metadata": {},
   "outputs": [],
   "source": [
    "#Impute With Mean\n",
    "new_num_data.fillna(new_num_data.mean(), inplace=True)"
   ]
  },
  {
   "cell_type": "code",
   "execution_count": 123,
   "metadata": {},
   "outputs": [
    {
     "data": {
      "text/plain": [
       "number vmail messages    1633\n",
       "total day minutes        1633\n",
       "total day calls          1633\n",
       "total day charge         1633\n",
       "total eve minutes        1633\n",
       "total eve calls          1633\n",
       "total eve charge         1633\n",
       "total night minutes      1633\n",
       "total night calls        1633\n",
       "total night charge          0\n",
       "total intl minutes          0\n",
       "total intl calls            0\n",
       "total intl charge           0\n",
       "dtype: int64"
      ]
     },
     "execution_count": 123,
     "metadata": {},
     "output_type": "execute_result"
    }
   ],
   "source": [
    "new_num_data.isnull().sum()"
   ]
  },
  {
   "cell_type": "code",
   "execution_count": 124,
   "metadata": {},
   "outputs": [],
   "source": [
    "#Impute with median\n",
    "\n",
    "new_num_data.fillna(new_num_data.median(), inplace=True)"
   ]
  },
  {
   "cell_type": "code",
   "execution_count": 125,
   "metadata": {},
   "outputs": [
    {
     "data": {
      "text/plain": [
       "number vmail messages    1633\n",
       "total day minutes        1633\n",
       "total day calls          1633\n",
       "total day charge         1633\n",
       "total eve minutes        1633\n",
       "total eve calls          1633\n",
       "total eve charge         1633\n",
       "total night minutes      1633\n",
       "total night calls        1633\n",
       "total night charge          0\n",
       "total intl minutes          0\n",
       "total intl calls            0\n",
       "total intl charge           0\n",
       "dtype: int64"
      ]
     },
     "execution_count": 125,
     "metadata": {},
     "output_type": "execute_result"
    }
   ],
   "source": [
    "new_num_data.isnull().sum()"
   ]
  },
  {
   "cell_type": "code",
   "execution_count": 126,
   "metadata": {},
   "outputs": [
    {
     "data": {
      "text/plain": [
       "array([[<matplotlib.axes._subplots.AxesSubplot object at 0x0000027D026CDCF8>,\n",
       "        <matplotlib.axes._subplots.AxesSubplot object at 0x0000027D02764518>,\n",
       "        <matplotlib.axes._subplots.AxesSubplot object at 0x0000027D0275E588>,\n",
       "        <matplotlib.axes._subplots.AxesSubplot object at 0x0000027D027875F8>],\n",
       "       [<matplotlib.axes._subplots.AxesSubplot object at 0x0000027D027B0668>,\n",
       "        <matplotlib.axes._subplots.AxesSubplot object at 0x0000027D027B06A0>,\n",
       "        <matplotlib.axes._subplots.AxesSubplot object at 0x0000027D02804748>,\n",
       "        <matplotlib.axes._subplots.AxesSubplot object at 0x0000027D0282E7B8>],\n",
       "       [<matplotlib.axes._subplots.AxesSubplot object at 0x0000027D0285A828>,\n",
       "        <matplotlib.axes._subplots.AxesSubplot object at 0x0000027D02883898>,\n",
       "        <matplotlib.axes._subplots.AxesSubplot object at 0x0000027D028ADC50>,\n",
       "        <matplotlib.axes._subplots.AxesSubplot object at 0x0000027D028DF080>],\n",
       "       [<matplotlib.axes._subplots.AxesSubplot object at 0x0000027D02907438>,\n",
       "        <matplotlib.axes._subplots.AxesSubplot object at 0x0000027D0292F828>,\n",
       "        <matplotlib.axes._subplots.AxesSubplot object at 0x0000027D0295AEB8>,\n",
       "        <matplotlib.axes._subplots.AxesSubplot object at 0x0000027D0298B588>]],\n",
       "      dtype=object)"
      ]
     },
     "execution_count": 126,
     "metadata": {},
     "output_type": "execute_result"
    },
    {
     "data": {
      "image/png": "[encoded data removed]",
      "text/plain": [
       "<Figure size 432x288 with 16 Axes>"
      ]
     },
     "metadata": {},
     "output_type": "display_data"
    }
   ],
   "source": [
    "#After Removal Of Outliers The Visualiztion is:\n",
    "import random\n",
    "random.seed(1234)\n",
    "new_set.boxplot(by='Churn', \n",
    "                       column=['number vmail messages','total day minutes','total day calls',\n",
    "                               'total day charge','total eve minutes',\n",
    "                               'total eve calls','total eve charge','total night minutes','total night calls','total night charge',                                'total intl minutes','total intl calls','total intl charge'\n",
    "                              ], \n",
    "                       grid=False)"
   ]
  },
  {
   "cell_type": "markdown",
   "metadata": {},
   "source": [
    "# Feature Selection"
   ]
  },
  {
   "cell_type": "code",
   "execution_count": 127,
   "metadata": {},
   "outputs": [
    {
     "data": {
      "text/plain": [
       "Index(['area code', 'number vmail messages', 'total day minutes',\n",
       "       'total day calls', 'total day charge', 'total eve minutes',\n",
       "       'total eve calls', 'total eve charge', 'total night minutes',\n",
       "       'total night calls', 'total night charge', 'total intl minutes',\n",
       "       'total intl calls', 'total intl charge',\n",
       "       'number customer service calls'],\n",
       "      dtype='object')"
      ]
     },
     "execution_count": 127,
     "metadata": {},
     "output_type": "execute_result"
    }
   ],
   "source": [
    "#Feature Selection is apply on sample_set dataset.\n",
    "#Feature Selection perform in two ways:\n",
    "# 1.Correlation Plot  - This is on numerical variables.\n",
    "# 2.Chi-square Test   - This is on categorical variables.\n",
    "\n",
    "#Calculate the Numerical Columns Name\n",
    "import random\n",
    "random.seed(1234)\n",
    "sample_num_data_cnames=sample_num_data.columns\n",
    "sample_num_data_cnames"
   ]
  },
  {
   "cell_type": "code",
   "execution_count": 128,
   "metadata": {},
   "outputs": [],
   "source": [
    "#Perform Correlation Analysis\n",
    "corr_analysis=sample_set.loc[:,sample_num_data_cnames]\n",
    "#corr_analysis"
   ]
  },
  {
   "cell_type": "code",
   "execution_count": 129,
   "metadata": {},
   "outputs": [
    {
     "data": {
      "text/plain": [
       "<matplotlib.axes._subplots.AxesSubplot at 0x27d02d54cc0>"
      ]
     },
     "execution_count": 129,
     "metadata": {},
     "output_type": "execute_result"
    },
    {
     "data": {
      "image/png": "[encoded data removed]",
      "text/plain": [
       "<Figure size 504x360 with 2 Axes>"
      ]
     },
     "metadata": {},
     "output_type": "display_data"
    }
   ],
   "source": [
    "#Set the width & height of the plot\n",
    "f,ax = plt.subplots(figsize=(7,5))\n",
    "\n",
    "\n",
    "#Generate Correlation Matrix\n",
    "corr_matrix=corr_analysis.corr()\n",
    "corr_matrix\n",
    "\n",
    "#Plot using seaborn library\n",
    "\n",
    "sns.heatmap(corr_matrix,mask=np.zeros_like(corr_matrix,dtype=np.bool),cmap=sns.diverging_palette(220,10,as_cmap=True),square=True,ax=ax)"
   ]
  },
  {
   "cell_type": "code",
   "execution_count": 131,
   "metadata": {},
   "outputs": [
    {
     "data": {
      "text/plain": [
       "['state', 'phone number', 'international plan', 'voice mail plan']"
      ]
     },
     "execution_count": 131,
     "metadata": {},
     "output_type": "execute_result"
    }
   ],
   "source": [
    "#Chi-square Test is apply on categorical variable\n",
    "#Calculate Categorical Column Name\n",
    "import random\n",
    "random.seed(1234)\n",
    "sample_cat_data_cnames=['state','phone number','international plan','voice mail plan']\n",
    "sample_cat_data_cnames"
   ]
  },
  {
   "cell_type": "code",
   "execution_count": 50,
   "metadata": {},
   "outputs": [
    {
     "name": "stdout",
     "output_type": "stream",
     "text": [
      "state\n",
      "4.311823941971474e-05\n",
      "phone number\n",
      "1.4924319625341054e-24\n",
      "international plan\n",
      "8.991944070113332e-37\n",
      "voice mail plan\n",
      "1.3236797989117105e-07\n"
     ]
    }
   ],
   "source": [
    "#Calculate or Display the Chi-Square Values\n",
    "for i in sample_cat_data_cnames:\n",
    "    print(i)\n",
    "    chi2,p,dof,ex=chi2_contingency(pd.crosstab(sample_set['Churn'],sample_set[i]))\n",
    "    print(p)"
   ]
  },
  {
   "cell_type": "markdown",
   "metadata": {},
   "source": [
    "# Decision Tree"
   ]
  },
  {
   "cell_type": "code",
   "execution_count": 1,
   "metadata": {},
   "outputs": [
    {
     "ename": "NameError",
     "evalue": "name 'pd' is not defined",
     "output_type": "error",
     "traceback": [
      "\u001b[1;31m---------------------------------------------------------------------------\u001b[0m",
      "\u001b[1;31mNameError\u001b[0m                                 Traceback (most recent call last)",
      "\u001b[1;32m<ipython-input-1-8b2e13677b1d>\u001b[0m in \u001b[0;36m<module>\u001b[1;34m()\u001b[0m\n\u001b[0;32m      3\u001b[0m \u001b[1;32mimport\u001b[0m \u001b[0mrandom\u001b[0m\u001b[1;33m\u001b[0m\u001b[0m\n\u001b[0;32m      4\u001b[0m \u001b[0mrandom\u001b[0m\u001b[1;33m.\u001b[0m\u001b[0mseed\u001b[0m\u001b[1;33m(\u001b[0m\u001b[1;36m1234\u001b[0m\u001b[1;33m)\u001b[0m\u001b[1;33m\u001b[0m\u001b[0m\n\u001b[1;32m----> 5\u001b[1;33m \u001b[0msample_set\u001b[0m\u001b[1;33m[\u001b[0m\u001b[1;34m'state'\u001b[0m\u001b[1;33m]\u001b[0m\u001b[1;33m,\u001b[0m\u001b[0m_\u001b[0m \u001b[1;33m=\u001b[0m \u001b[0mpd\u001b[0m\u001b[1;33m.\u001b[0m\u001b[0mfactorize\u001b[0m\u001b[1;33m(\u001b[0m\u001b[0msample_set\u001b[0m\u001b[1;33m[\u001b[0m\u001b[1;34m'state'\u001b[0m\u001b[1;33m]\u001b[0m\u001b[1;33m)\u001b[0m\u001b[1;33m\u001b[0m\u001b[0m\n\u001b[0m\u001b[0;32m      6\u001b[0m \u001b[0msample_set\u001b[0m\u001b[1;33m[\u001b[0m\u001b[1;34m'phone number'\u001b[0m\u001b[1;33m]\u001b[0m\u001b[1;33m,\u001b[0m\u001b[0m_\u001b[0m \u001b[1;33m=\u001b[0m \u001b[0mpd\u001b[0m\u001b[1;33m.\u001b[0m\u001b[0mfactorize\u001b[0m\u001b[1;33m(\u001b[0m\u001b[0msample_set\u001b[0m\u001b[1;33m[\u001b[0m\u001b[1;34m'phone number'\u001b[0m\u001b[1;33m]\u001b[0m\u001b[1;33m)\u001b[0m\u001b[1;33m\u001b[0m\u001b[0m\n\u001b[0;32m      7\u001b[0m \u001b[0msample_set\u001b[0m\u001b[1;33m[\u001b[0m\u001b[1;34m'international plan'\u001b[0m\u001b[1;33m]\u001b[0m\u001b[1;33m,\u001b[0m\u001b[0m_\u001b[0m \u001b[1;33m=\u001b[0m \u001b[0mpd\u001b[0m\u001b[1;33m.\u001b[0m\u001b[0mfactorize\u001b[0m\u001b[1;33m(\u001b[0m\u001b[0msample_set\u001b[0m\u001b[1;33m[\u001b[0m\u001b[1;34m'international plan'\u001b[0m\u001b[1;33m]\u001b[0m\u001b[1;33m)\u001b[0m\u001b[1;33m\u001b[0m\u001b[0m\n",
      "\u001b[1;31mNameError\u001b[0m: name 'pd' is not defined"
     ]
    }
   ],
   "source": [
    "#Decision Tree\n",
    "#Convert String into int\n",
    "import random\n",
    "random.seed(1234)\n",
    "sample_set['state'],_ = pd.factorize(sample_set['state'])\n",
    "sample_set['phone number'],_ = pd.factorize(sample_set['phone number'])\n",
    "sample_set['international plan'],_ = pd.factorize(sample_set['international plan'])\n",
    "sample_set['voice mail plan'],_ = pd.factorize(sample_set['voice mail plan'])\n",
    "\n",
    "sample_set.head()\n",
    "\n",
    "#Select the predictor feature and target variable\n",
    "X = sample_set.iloc[:,:-1]\n",
    "y = sample_set.iloc[:,-1]\n",
    "\n",
    "# split data randomly into 70% training and 30% test\n",
    "X_train, X_test, y_train, y_test = train_test_split(X, y, test_size=0.3, random_state=0)\n"
   ]
  },
  {
   "cell_type": "code",
   "execution_count": 133,
   "metadata": {},
   "outputs": [],
   "source": [
    "#Create a Model for Decision Tree\n",
    "deci_tree_model=tree.DecisionTreeClassifier(criterion=\"entropy\").fit(X_train,y_train)"
   ]
  },
  {
   "cell_type": "code",
   "execution_count": 134,
   "metadata": {},
   "outputs": [],
   "source": [
    "#To Make Prediction On Test Data we first load test dataset\n",
    "#Load the Test Data\n",
    "test_data = pd.read_csv(\"Test_data.csv\",encoding='ISO-8859-1')\n",
    "\n",
    "#Prediction on test dataset\n",
    "y_pred = deci_tree_model.predict(X_test)"
   ]
  },
  {
   "cell_type": "code",
   "execution_count": 135,
   "metadata": {},
   "outputs": [],
   "source": [
    "#Because of large dataset,we cannot built a decision tree here.It contain messy data.\n",
    "#Create Dot file to Visualize Tree                           #http://webgraphviz.com\n",
    "dotfile=open(\"pt.dot\",\"w\")     \n",
    "df=tree.export_graphviz(deci_tree_model,out_file=dotfile,feature_names = X.columns)"
   ]
  },
  {
   "cell_type": "code",
   "execution_count": 136,
   "metadata": {},
   "outputs": [
    {
     "name": "stdout",
     "output_type": "stream",
     "text": [
      "[[578  18]\n",
      " [ 14  90]]\n",
      "             precision    recall  f1-score   support\n",
      "\n",
      "     False.       0.98      0.97      0.97       596\n",
      "      True.       0.83      0.87      0.85       104\n",
      "\n",
      "avg / total       0.96      0.95      0.95       700\n",
      "\n"
     ]
    }
   ],
   "source": [
    "#Evaluating The Algorithm\n",
    "#There are ways to display decision tree here.Using crosstab and confusion_matrix & classification report.\n",
    "CM = pd.crosstab(y_test,y_pred)\n",
    "CM\n",
    "\n",
    "print(confusion_matrix(y_test, y_pred))  \n",
    "print(classification_report(y_test, y_pred))  "
   ]
  },
  {
   "cell_type": "code",
   "execution_count": 137,
   "metadata": {},
   "outputs": [
    {
     "data": {
      "text/plain": [
       "(578, 14, 90, 18)"
      ]
     },
     "execution_count": 137,
     "metadata": {},
     "output_type": "execute_result"
    }
   ],
   "source": [
    "#Once we get Confusion Matrix then we calculate the term accordingly.\n",
    "TN = CM.iloc[0,0]                  #True Negative : 578\n",
    "FN = CM.iloc[1,0]                  #False Negative : 14\n",
    "TP = CM.iloc[1,1]                  #True Positive : 90\n",
    "FP = CM.iloc[0,1]                  #False Positive :18\n",
    "TN,FN,TP,FP"
   ]
  },
  {
   "cell_type": "code",
   "execution_count": 138,
   "metadata": {},
   "outputs": [
    {
     "data": {
      "text/plain": [
       "95.42857142857143"
      ]
     },
     "execution_count": 138,
     "metadata": {},
     "output_type": "execute_result"
    }
   ],
   "source": [
    "#Check Accuracy Of the Model using accuracy_score() or using following formula\n",
    "accuracy_score(y_test,y_pred)*100                   #Accuracy : 95.42%\n",
    "\n",
    "((TP+TN)*100)/(TN+FN+TP+FP)                         #Accuracy = 95.42%"
   ]
  },
  {
   "cell_type": "code",
   "execution_count": 2,
   "metadata": {},
   "outputs": [
    {
     "ename": "NameError",
     "evalue": "name 'FN' is not defined",
     "output_type": "error",
     "traceback": [
      "\u001b[1;31m---------------------------------------------------------------------------\u001b[0m",
      "\u001b[1;31mNameError\u001b[0m                                 Traceback (most recent call last)",
      "\u001b[1;32m<ipython-input-2-a2b6f4fa2454>\u001b[0m in \u001b[0;36m<module>\u001b[1;34m()\u001b[0m\n\u001b[0;32m      1\u001b[0m \u001b[1;31m#Calculate False Negative Rate\u001b[0m\u001b[1;33m\u001b[0m\u001b[1;33m\u001b[0m\u001b[0m\n\u001b[1;32m----> 2\u001b[1;33m \u001b[1;33m(\u001b[0m\u001b[0mFN\u001b[0m\u001b[1;33m*\u001b[0m\u001b[1;36m100\u001b[0m\u001b[1;33m)\u001b[0m\u001b[1;33m/\u001b[0m\u001b[1;33m(\u001b[0m\u001b[0mFN\u001b[0m\u001b[1;33m+\u001b[0m\u001b[0mTP\u001b[0m\u001b[1;33m)\u001b[0m                                    \u001b[1;31m#FNR = 13.46%\u001b[0m\u001b[1;33m\u001b[0m\u001b[0m\n\u001b[0m",
      "\u001b[1;31mNameError\u001b[0m: name 'FN' is not defined"
     ]
    }
   ],
   "source": [
    "#Calculate False Negative Rate\n",
    "(FN*100)/(FN+TP)                                    #FNR = 13.46%"
   ]
  },
  {
   "cell_type": "code",
   "execution_count": null,
   "metadata": {},
   "outputs": [],
   "source": [
    "#Decision Tree:\n",
    "#Accuracy : 95.42%\n",
    "#FNR = 13.46%"
   ]
  },
  {
   "cell_type": "markdown",
   "metadata": {},
   "source": [
    "# Random Forest"
   ]
  },
  {
   "cell_type": "code",
   "execution_count": 140,
   "metadata": {},
   "outputs": [],
   "source": [
    "#Random Forest is apply on sample_set dataset.\n",
    "#Create a model for Random Forest\n",
    "RF_model=RandomForestClassifier(n_estimators=100).fit(X_train,y_train)\n",
    "#RF_model"
   ]
  },
  {
   "cell_type": "code",
   "execution_count": 141,
   "metadata": {},
   "outputs": [],
   "source": [
    "#To Make a Predictions On test dataset\n",
    "RF_predictions=RF_model.predict(X_test)\n",
    "#RF_predictions"
   ]
  },
  {
   "cell_type": "code",
   "execution_count": 142,
   "metadata": {},
   "outputs": [
    {
     "data": {
      "text/html": [
       "<div>\n",
       "<style scoped>\n",
       "    .dataframe tbody tr th:only-of-type {\n",
       "        vertical-align: middle;\n",
       "    }\n",
       "\n",
       "    .dataframe tbody tr th {\n",
       "        vertical-align: top;\n",
       "    }\n",
       "\n",
       "    .dataframe thead th {\n",
       "        text-align: right;\n",
       "    }\n",
       "</style>\n",
       "<table border=\"1\" class=\"dataframe\">\n",
       "  <thead>\n",
       "    <tr style=\"text-align: right;\">\n",
       "      <th>col_0</th>\n",
       "      <th>False.</th>\n",
       "      <th>True.</th>\n",
       "    </tr>\n",
       "    <tr>\n",
       "      <th>Churn</th>\n",
       "      <th></th>\n",
       "      <th></th>\n",
       "    </tr>\n",
       "  </thead>\n",
       "  <tbody>\n",
       "    <tr>\n",
       "      <th>False.</th>\n",
       "      <td>592</td>\n",
       "      <td>4</td>\n",
       "    </tr>\n",
       "    <tr>\n",
       "      <th>True.</th>\n",
       "      <td>15</td>\n",
       "      <td>89</td>\n",
       "    </tr>\n",
       "  </tbody>\n",
       "</table>\n",
       "</div>"
      ],
      "text/plain": [
       "col_0     False.   True.\n",
       "Churn                   \n",
       " False.      592       4\n",
       " True.        15      89"
      ]
     },
     "execution_count": 142,
     "metadata": {},
     "output_type": "execute_result"
    }
   ],
   "source": [
    "#Calculate the confusion matrix for performance of the model\n",
    "CM = pd.crosstab(y_test,RF_predictions)\n",
    "CM"
   ]
  },
  {
   "cell_type": "code",
   "execution_count": 143,
   "metadata": {},
   "outputs": [
    {
     "data": {
      "text/plain": [
       "(592, 15, 89, 4)"
      ]
     },
     "execution_count": 143,
     "metadata": {},
     "output_type": "execute_result"
    }
   ],
   "source": [
    "#Once we get Confusion Matrix then we calculate the term accordingly.\n",
    "TN = CM.iloc[0,0]                #True Negative :592\n",
    "FN = CM.iloc[1,0]                #False Negative :15\n",
    "TP = CM.iloc[1,1]                #True Positive : 89\n",
    "FP = CM.iloc[0,1]                #False Positive : 4\n",
    "TN,FN,TP,FP"
   ]
  },
  {
   "cell_type": "code",
   "execution_count": 144,
   "metadata": {},
   "outputs": [
    {
     "data": {
      "text/plain": [
       "97.28571428571429"
      ]
     },
     "execution_count": 144,
     "metadata": {},
     "output_type": "execute_result"
    }
   ],
   "source": [
    "#Calculate the Accuracy of the model\n",
    "((TP+TN)*100)/(TN+FN+TP+FP)      #Accuracy = 97.28%"
   ]
  },
  {
   "cell_type": "code",
   "execution_count": 145,
   "metadata": {},
   "outputs": [
    {
     "data": {
      "text/plain": [
       "14.423076923076923"
      ]
     },
     "execution_count": 145,
     "metadata": {},
     "output_type": "execute_result"
    }
   ],
   "source": [
    "#Calculate False Negative Rate\n",
    "(FN*100)/(FN+TP)                #FNR = 14.42%"
   ]
  },
  {
   "cell_type": "code",
   "execution_count": null,
   "metadata": {},
   "outputs": [],
   "source": [
    "#Random Forest :\n",
    "#Accuracy = 97.28%\n",
    "#FNR = 14.42%"
   ]
  },
  {
   "cell_type": "markdown",
   "metadata": {},
   "source": [
    "# Logistic Regression"
   ]
  },
  {
   "cell_type": "code",
   "execution_count": 146,
   "metadata": {},
   "outputs": [],
   "source": [
    "#Logistic Regression is apply on sample_set dataset.\n",
    "#Create A model For Logistic Regression\n",
    "logisticRegr = LogisticRegression().fit(X_train,y_train)\n",
    "#logisticRegr"
   ]
  },
  {
   "cell_type": "code",
   "execution_count": 147,
   "metadata": {},
   "outputs": [],
   "source": [
    "#To Make Predictions On Test Dataset\n",
    "logit_predictions = logisticRegr.predict(X_test)\n",
    "#logit_predictions"
   ]
  },
  {
   "cell_type": "code",
   "execution_count": 148,
   "metadata": {},
   "outputs": [
    {
     "data": {
      "text/html": [
       "<div>\n",
       "<style scoped>\n",
       "    .dataframe tbody tr th:only-of-type {\n",
       "        vertical-align: middle;\n",
       "    }\n",
       "\n",
       "    .dataframe tbody tr th {\n",
       "        vertical-align: top;\n",
       "    }\n",
       "\n",
       "    .dataframe thead th {\n",
       "        text-align: right;\n",
       "    }\n",
       "</style>\n",
       "<table border=\"1\" class=\"dataframe\">\n",
       "  <thead>\n",
       "    <tr style=\"text-align: right;\">\n",
       "      <th>col_0</th>\n",
       "      <th>False.</th>\n",
       "      <th>True.</th>\n",
       "    </tr>\n",
       "    <tr>\n",
       "      <th>Churn</th>\n",
       "      <th></th>\n",
       "      <th></th>\n",
       "    </tr>\n",
       "  </thead>\n",
       "  <tbody>\n",
       "    <tr>\n",
       "      <th>False.</th>\n",
       "      <td>586</td>\n",
       "      <td>10</td>\n",
       "    </tr>\n",
       "    <tr>\n",
       "      <th>True.</th>\n",
       "      <td>83</td>\n",
       "      <td>21</td>\n",
       "    </tr>\n",
       "  </tbody>\n",
       "</table>\n",
       "</div>"
      ],
      "text/plain": [
       "col_0     False.   True.\n",
       "Churn                   \n",
       " False.      586      10\n",
       " True.        83      21"
      ]
     },
     "execution_count": 148,
     "metadata": {},
     "output_type": "execute_result"
    }
   ],
   "source": [
    "#Calculate Confusion Matrix for the model\n",
    "CM = pd.crosstab(y_test,logit_predictions)\n",
    "CM"
   ]
  },
  {
   "cell_type": "code",
   "execution_count": 149,
   "metadata": {},
   "outputs": [
    {
     "data": {
      "text/plain": [
       "(586, 83, 21, 10)"
      ]
     },
     "execution_count": 149,
     "metadata": {},
     "output_type": "execute_result"
    }
   ],
   "source": [
    "#Once we get Confusion Matrix then we calculate the term accordingly.\n",
    "TN = CM.iloc[0,0]             #True Negative : 586\n",
    "FN = CM.iloc[1,0]             #False Negative : 83\n",
    "TP = CM.iloc[1,1]             #True Positive : 21\n",
    "FP = CM.iloc[0,1]             #False Positive : 10\n",
    "TN,FN,TP,FP"
   ]
  },
  {
   "cell_type": "code",
   "execution_count": 150,
   "metadata": {},
   "outputs": [
    {
     "data": {
      "text/plain": [
       "86.71428571428571"
      ]
     },
     "execution_count": 150,
     "metadata": {},
     "output_type": "execute_result"
    }
   ],
   "source": [
    "#Calculate The Accuracy for the model\n",
    "((TP+TN)*100)/(TN+FN+TP+FP)      #Accuracy = 86.71%"
   ]
  },
  {
   "cell_type": "code",
   "execution_count": 151,
   "metadata": {},
   "outputs": [
    {
     "data": {
      "text/plain": [
       "79.8076923076923"
      ]
     },
     "execution_count": 151,
     "metadata": {},
     "output_type": "execute_result"
    }
   ],
   "source": [
    "#Calculate The False Negative Rate\n",
    "(FN*100)/(FN+TP)                #FNR = 79.80%"
   ]
  },
  {
   "cell_type": "code",
   "execution_count": 1,
   "metadata": {},
   "outputs": [],
   "source": [
    "#Logistic Regression :\n",
    "#Accuracy = 86.71%\n",
    "#FNR = 79.80%"
   ]
  }
 ],
 "metadata": {
  "kernelspec": {
   "display_name": "Python 3",
   "language": "python",
   "name": "python3"
  },
  "language_info": {
   "codemirror_mode": {
    "name": "ipython",
    "version": 3
   },
   "file_extension": ".py",
   "mimetype": "text/x-python",
   "name": "python",
   "nbconvert_exporter": "python",
   "pygments_lexer": "ipython3",
   "version": "3.6.5"
  }
 },
 "nbformat": 4,
 "nbformat_minor": 2
}
